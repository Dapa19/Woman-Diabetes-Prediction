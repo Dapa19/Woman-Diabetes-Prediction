{
  "nbformat": 4,
  "nbformat_minor": 0,
  "metadata": {
    "colab": {
      "provenance": []
    },
    "kernelspec": {
      "name": "python3",
      "display_name": "Python 3"
    },
    "language_info": {
      "name": "python"
    }
  },
  "cells": [
    {
      "cell_type": "code",
      "execution_count": 128,
      "metadata": {
        "id": "UGn_mPJd7-NZ"
      },
      "outputs": [],
      "source": [
        "#Import Library\n",
        "%matplotlib inline\n",
        "import pandas as pd\n",
        "import numpy as np\n",
        "import matplotlib.pyplot as plt\n",
        "import seaborn as sns"
      ]
    },
    {
      "cell_type": "code",
      "source": [
        "#read dataset\n",
        "diabetes_df = pd.read_csv('diabetes-dataset.csv')\n",
        "diabetes_df.columns"
      ],
      "metadata": {
        "colab": {
          "base_uri": "https://localhost:8080/"
        },
        "id": "FiMA78oa8VTR",
        "outputId": "c5e63951-b0fc-4923-eefc-9238239f660a"
      },
      "execution_count": 129,
      "outputs": [
        {
          "output_type": "execute_result",
          "data": {
            "text/plain": [
              "Index(['Pregnancies', 'Glucose', 'BloodPressure', 'SkinThickness', 'Insulin',\n",
              "       'BMI', 'DiabetesPedigreeFunction', 'Age', 'Outcome'],\n",
              "      dtype='object')"
            ]
          },
          "metadata": {},
          "execution_count": 129
        }
      ]
    },
    {
      "cell_type": "code",
      "source": [
        "diabetes_df.head()"
      ],
      "metadata": {
        "colab": {
          "base_uri": "https://localhost:8080/",
          "height": 206
        },
        "id": "oo6lh8HV9AmB",
        "outputId": "7459461f-5347-46ac-9110-978563b82495"
      },
      "execution_count": 130,
      "outputs": [
        {
          "output_type": "execute_result",
          "data": {
            "text/plain": [
              "   Pregnancies  Glucose  BloodPressure  SkinThickness  Insulin   BMI  \\\n",
              "0            2      138             62             35        0  33.6   \n",
              "1            0       84             82             31      125  38.2   \n",
              "2            0      145              0              0        0  44.2   \n",
              "3            0      135             68             42      250  42.3   \n",
              "4            1      139             62             41      480  40.7   \n",
              "\n",
              "   DiabetesPedigreeFunction  Age  Outcome  \n",
              "0                     0.127   47        1  \n",
              "1                     0.233   23        0  \n",
              "2                     0.630   31        1  \n",
              "3                     0.365   24        1  \n",
              "4                     0.536   21        0  "
            ],
            "text/html": [
              "\n",
              "  <div id=\"df-1e9acf45-5ed7-4d3b-9b96-2d94dcf6e919\" class=\"colab-df-container\">\n",
              "    <div>\n",
              "<style scoped>\n",
              "    .dataframe tbody tr th:only-of-type {\n",
              "        vertical-align: middle;\n",
              "    }\n",
              "\n",
              "    .dataframe tbody tr th {\n",
              "        vertical-align: top;\n",
              "    }\n",
              "\n",
              "    .dataframe thead th {\n",
              "        text-align: right;\n",
              "    }\n",
              "</style>\n",
              "<table border=\"1\" class=\"dataframe\">\n",
              "  <thead>\n",
              "    <tr style=\"text-align: right;\">\n",
              "      <th></th>\n",
              "      <th>Pregnancies</th>\n",
              "      <th>Glucose</th>\n",
              "      <th>BloodPressure</th>\n",
              "      <th>SkinThickness</th>\n",
              "      <th>Insulin</th>\n",
              "      <th>BMI</th>\n",
              "      <th>DiabetesPedigreeFunction</th>\n",
              "      <th>Age</th>\n",
              "      <th>Outcome</th>\n",
              "    </tr>\n",
              "  </thead>\n",
              "  <tbody>\n",
              "    <tr>\n",
              "      <th>0</th>\n",
              "      <td>2</td>\n",
              "      <td>138</td>\n",
              "      <td>62</td>\n",
              "      <td>35</td>\n",
              "      <td>0</td>\n",
              "      <td>33.6</td>\n",
              "      <td>0.127</td>\n",
              "      <td>47</td>\n",
              "      <td>1</td>\n",
              "    </tr>\n",
              "    <tr>\n",
              "      <th>1</th>\n",
              "      <td>0</td>\n",
              "      <td>84</td>\n",
              "      <td>82</td>\n",
              "      <td>31</td>\n",
              "      <td>125</td>\n",
              "      <td>38.2</td>\n",
              "      <td>0.233</td>\n",
              "      <td>23</td>\n",
              "      <td>0</td>\n",
              "    </tr>\n",
              "    <tr>\n",
              "      <th>2</th>\n",
              "      <td>0</td>\n",
              "      <td>145</td>\n",
              "      <td>0</td>\n",
              "      <td>0</td>\n",
              "      <td>0</td>\n",
              "      <td>44.2</td>\n",
              "      <td>0.630</td>\n",
              "      <td>31</td>\n",
              "      <td>1</td>\n",
              "    </tr>\n",
              "    <tr>\n",
              "      <th>3</th>\n",
              "      <td>0</td>\n",
              "      <td>135</td>\n",
              "      <td>68</td>\n",
              "      <td>42</td>\n",
              "      <td>250</td>\n",
              "      <td>42.3</td>\n",
              "      <td>0.365</td>\n",
              "      <td>24</td>\n",
              "      <td>1</td>\n",
              "    </tr>\n",
              "    <tr>\n",
              "      <th>4</th>\n",
              "      <td>1</td>\n",
              "      <td>139</td>\n",
              "      <td>62</td>\n",
              "      <td>41</td>\n",
              "      <td>480</td>\n",
              "      <td>40.7</td>\n",
              "      <td>0.536</td>\n",
              "      <td>21</td>\n",
              "      <td>0</td>\n",
              "    </tr>\n",
              "  </tbody>\n",
              "</table>\n",
              "</div>\n",
              "    <div class=\"colab-df-buttons\">\n",
              "\n",
              "  <div class=\"colab-df-container\">\n",
              "    <button class=\"colab-df-convert\" onclick=\"convertToInteractive('df-1e9acf45-5ed7-4d3b-9b96-2d94dcf6e919')\"\n",
              "            title=\"Convert this dataframe to an interactive table.\"\n",
              "            style=\"display:none;\">\n",
              "\n",
              "  <svg xmlns=\"http://www.w3.org/2000/svg\" height=\"24px\" viewBox=\"0 -960 960 960\">\n",
              "    <path d=\"M120-120v-720h720v720H120Zm60-500h600v-160H180v160Zm220 220h160v-160H400v160Zm0 220h160v-160H400v160ZM180-400h160v-160H180v160Zm440 0h160v-160H620v160ZM180-180h160v-160H180v160Zm440 0h160v-160H620v160Z\"/>\n",
              "  </svg>\n",
              "    </button>\n",
              "\n",
              "  <style>\n",
              "    .colab-df-container {\n",
              "      display:flex;\n",
              "      gap: 12px;\n",
              "    }\n",
              "\n",
              "    .colab-df-convert {\n",
              "      background-color: #E8F0FE;\n",
              "      border: none;\n",
              "      border-radius: 50%;\n",
              "      cursor: pointer;\n",
              "      display: none;\n",
              "      fill: #1967D2;\n",
              "      height: 32px;\n",
              "      padding: 0 0 0 0;\n",
              "      width: 32px;\n",
              "    }\n",
              "\n",
              "    .colab-df-convert:hover {\n",
              "      background-color: #E2EBFA;\n",
              "      box-shadow: 0px 1px 2px rgba(60, 64, 67, 0.3), 0px 1px 3px 1px rgba(60, 64, 67, 0.15);\n",
              "      fill: #174EA6;\n",
              "    }\n",
              "\n",
              "    .colab-df-buttons div {\n",
              "      margin-bottom: 4px;\n",
              "    }\n",
              "\n",
              "    [theme=dark] .colab-df-convert {\n",
              "      background-color: #3B4455;\n",
              "      fill: #D2E3FC;\n",
              "    }\n",
              "\n",
              "    [theme=dark] .colab-df-convert:hover {\n",
              "      background-color: #434B5C;\n",
              "      box-shadow: 0px 1px 3px 1px rgba(0, 0, 0, 0.15);\n",
              "      filter: drop-shadow(0px 1px 2px rgba(0, 0, 0, 0.3));\n",
              "      fill: #FFFFFF;\n",
              "    }\n",
              "  </style>\n",
              "\n",
              "    <script>\n",
              "      const buttonEl =\n",
              "        document.querySelector('#df-1e9acf45-5ed7-4d3b-9b96-2d94dcf6e919 button.colab-df-convert');\n",
              "      buttonEl.style.display =\n",
              "        google.colab.kernel.accessAllowed ? 'block' : 'none';\n",
              "\n",
              "      async function convertToInteractive(key) {\n",
              "        const element = document.querySelector('#df-1e9acf45-5ed7-4d3b-9b96-2d94dcf6e919');\n",
              "        const dataTable =\n",
              "          await google.colab.kernel.invokeFunction('convertToInteractive',\n",
              "                                                    [key], {});\n",
              "        if (!dataTable) return;\n",
              "\n",
              "        const docLinkHtml = 'Like what you see? Visit the ' +\n",
              "          '<a target=\"_blank\" href=https://colab.research.google.com/notebooks/data_table.ipynb>data table notebook</a>'\n",
              "          + ' to learn more about interactive tables.';\n",
              "        element.innerHTML = '';\n",
              "        dataTable['output_type'] = 'display_data';\n",
              "        await google.colab.output.renderOutput(dataTable, element);\n",
              "        const docLink = document.createElement('div');\n",
              "        docLink.innerHTML = docLinkHtml;\n",
              "        element.appendChild(docLink);\n",
              "      }\n",
              "    </script>\n",
              "  </div>\n",
              "\n",
              "\n",
              "<div id=\"df-0500a0ca-0c80-46b1-b8d4-ce17ea5982f0\">\n",
              "  <button class=\"colab-df-quickchart\" onclick=\"quickchart('df-0500a0ca-0c80-46b1-b8d4-ce17ea5982f0')\"\n",
              "            title=\"Suggest charts\"\n",
              "            style=\"display:none;\">\n",
              "\n",
              "<svg xmlns=\"http://www.w3.org/2000/svg\" height=\"24px\"viewBox=\"0 0 24 24\"\n",
              "     width=\"24px\">\n",
              "    <g>\n",
              "        <path d=\"M19 3H5c-1.1 0-2 .9-2 2v14c0 1.1.9 2 2 2h14c1.1 0 2-.9 2-2V5c0-1.1-.9-2-2-2zM9 17H7v-7h2v7zm4 0h-2V7h2v10zm4 0h-2v-4h2v4z\"/>\n",
              "    </g>\n",
              "</svg>\n",
              "  </button>\n",
              "\n",
              "<style>\n",
              "  .colab-df-quickchart {\n",
              "      --bg-color: #E8F0FE;\n",
              "      --fill-color: #1967D2;\n",
              "      --hover-bg-color: #E2EBFA;\n",
              "      --hover-fill-color: #174EA6;\n",
              "      --disabled-fill-color: #AAA;\n",
              "      --disabled-bg-color: #DDD;\n",
              "  }\n",
              "\n",
              "  [theme=dark] .colab-df-quickchart {\n",
              "      --bg-color: #3B4455;\n",
              "      --fill-color: #D2E3FC;\n",
              "      --hover-bg-color: #434B5C;\n",
              "      --hover-fill-color: #FFFFFF;\n",
              "      --disabled-bg-color: #3B4455;\n",
              "      --disabled-fill-color: #666;\n",
              "  }\n",
              "\n",
              "  .colab-df-quickchart {\n",
              "    background-color: var(--bg-color);\n",
              "    border: none;\n",
              "    border-radius: 50%;\n",
              "    cursor: pointer;\n",
              "    display: none;\n",
              "    fill: var(--fill-color);\n",
              "    height: 32px;\n",
              "    padding: 0;\n",
              "    width: 32px;\n",
              "  }\n",
              "\n",
              "  .colab-df-quickchart:hover {\n",
              "    background-color: var(--hover-bg-color);\n",
              "    box-shadow: 0 1px 2px rgba(60, 64, 67, 0.3), 0 1px 3px 1px rgba(60, 64, 67, 0.15);\n",
              "    fill: var(--button-hover-fill-color);\n",
              "  }\n",
              "\n",
              "  .colab-df-quickchart-complete:disabled,\n",
              "  .colab-df-quickchart-complete:disabled:hover {\n",
              "    background-color: var(--disabled-bg-color);\n",
              "    fill: var(--disabled-fill-color);\n",
              "    box-shadow: none;\n",
              "  }\n",
              "\n",
              "  .colab-df-spinner {\n",
              "    border: 2px solid var(--fill-color);\n",
              "    border-color: transparent;\n",
              "    border-bottom-color: var(--fill-color);\n",
              "    animation:\n",
              "      spin 1s steps(1) infinite;\n",
              "  }\n",
              "\n",
              "  @keyframes spin {\n",
              "    0% {\n",
              "      border-color: transparent;\n",
              "      border-bottom-color: var(--fill-color);\n",
              "      border-left-color: var(--fill-color);\n",
              "    }\n",
              "    20% {\n",
              "      border-color: transparent;\n",
              "      border-left-color: var(--fill-color);\n",
              "      border-top-color: var(--fill-color);\n",
              "    }\n",
              "    30% {\n",
              "      border-color: transparent;\n",
              "      border-left-color: var(--fill-color);\n",
              "      border-top-color: var(--fill-color);\n",
              "      border-right-color: var(--fill-color);\n",
              "    }\n",
              "    40% {\n",
              "      border-color: transparent;\n",
              "      border-right-color: var(--fill-color);\n",
              "      border-top-color: var(--fill-color);\n",
              "    }\n",
              "    60% {\n",
              "      border-color: transparent;\n",
              "      border-right-color: var(--fill-color);\n",
              "    }\n",
              "    80% {\n",
              "      border-color: transparent;\n",
              "      border-right-color: var(--fill-color);\n",
              "      border-bottom-color: var(--fill-color);\n",
              "    }\n",
              "    90% {\n",
              "      border-color: transparent;\n",
              "      border-bottom-color: var(--fill-color);\n",
              "    }\n",
              "  }\n",
              "</style>\n",
              "\n",
              "  <script>\n",
              "    async function quickchart(key) {\n",
              "      const quickchartButtonEl =\n",
              "        document.querySelector('#' + key + ' button');\n",
              "      quickchartButtonEl.disabled = true;  // To prevent multiple clicks.\n",
              "      quickchartButtonEl.classList.add('colab-df-spinner');\n",
              "      try {\n",
              "        const charts = await google.colab.kernel.invokeFunction(\n",
              "            'suggestCharts', [key], {});\n",
              "      } catch (error) {\n",
              "        console.error('Error during call to suggestCharts:', error);\n",
              "      }\n",
              "      quickchartButtonEl.classList.remove('colab-df-spinner');\n",
              "      quickchartButtonEl.classList.add('colab-df-quickchart-complete');\n",
              "    }\n",
              "    (() => {\n",
              "      let quickchartButtonEl =\n",
              "        document.querySelector('#df-0500a0ca-0c80-46b1-b8d4-ce17ea5982f0 button');\n",
              "      quickchartButtonEl.style.display =\n",
              "        google.colab.kernel.accessAllowed ? 'block' : 'none';\n",
              "    })();\n",
              "  </script>\n",
              "</div>\n",
              "\n",
              "    </div>\n",
              "  </div>\n"
            ],
            "application/vnd.google.colaboratory.intrinsic+json": {
              "type": "dataframe",
              "variable_name": "diabetes_df",
              "summary": "{\n  \"name\": \"diabetes_df\",\n  \"rows\": 2000,\n  \"fields\": [\n    {\n      \"column\": \"Pregnancies\",\n      \"properties\": {\n        \"dtype\": \"number\",\n        \"std\": 3,\n        \"min\": 0,\n        \"max\": 17,\n        \"num_unique_values\": 17,\n        \"samples\": [\n          2,\n          0,\n          3\n        ],\n        \"semantic_type\": \"\",\n        \"description\": \"\"\n      }\n    },\n    {\n      \"column\": \"Glucose\",\n      \"properties\": {\n        \"dtype\": \"number\",\n        \"std\": 32,\n        \"min\": 0,\n        \"max\": 199,\n        \"num_unique_values\": 136,\n        \"samples\": [\n          124,\n          100,\n          136\n        ],\n        \"semantic_type\": \"\",\n        \"description\": \"\"\n      }\n    },\n    {\n      \"column\": \"BloodPressure\",\n      \"properties\": {\n        \"dtype\": \"number\",\n        \"std\": 19,\n        \"min\": 0,\n        \"max\": 122,\n        \"num_unique_values\": 47,\n        \"samples\": [\n          44,\n          100,\n          48\n        ],\n        \"semantic_type\": \"\",\n        \"description\": \"\"\n      }\n    },\n    {\n      \"column\": \"SkinThickness\",\n      \"properties\": {\n        \"dtype\": \"number\",\n        \"std\": 16,\n        \"min\": 0,\n        \"max\": 110,\n        \"num_unique_values\": 53,\n        \"samples\": [\n          47,\n          16,\n          8\n        ],\n        \"semantic_type\": \"\",\n        \"description\": \"\"\n      }\n    },\n    {\n      \"column\": \"Insulin\",\n      \"properties\": {\n        \"dtype\": \"number\",\n        \"std\": 111,\n        \"min\": 0,\n        \"max\": 744,\n        \"num_unique_values\": 182,\n        \"samples\": [\n          70,\n          135,\n          330\n        ],\n        \"semantic_type\": \"\",\n        \"description\": \"\"\n      }\n    },\n    {\n      \"column\": \"BMI\",\n      \"properties\": {\n        \"dtype\": \"number\",\n        \"std\": 8.149900701279762,\n        \"min\": 0.0,\n        \"max\": 80.6,\n        \"num_unique_values\": 247,\n        \"samples\": [\n          24.0,\n          25.6,\n          21.8\n        ],\n        \"semantic_type\": \"\",\n        \"description\": \"\"\n      }\n    },\n    {\n      \"column\": \"DiabetesPedigreeFunction\",\n      \"properties\": {\n        \"dtype\": \"number\",\n        \"std\": 0.3235525586811431,\n        \"min\": 0.078,\n        \"max\": 2.42,\n        \"num_unique_values\": 505,\n        \"samples\": [\n          0.142,\n          1.476,\n          0.488\n        ],\n        \"semantic_type\": \"\",\n        \"description\": \"\"\n      }\n    },\n    {\n      \"column\": \"Age\",\n      \"properties\": {\n        \"dtype\": \"number\",\n        \"std\": 11,\n        \"min\": 21,\n        \"max\": 81,\n        \"num_unique_values\": 52,\n        \"samples\": [\n          38,\n          52,\n          81\n        ],\n        \"semantic_type\": \"\",\n        \"description\": \"\"\n      }\n    },\n    {\n      \"column\": \"Outcome\",\n      \"properties\": {\n        \"dtype\": \"number\",\n        \"std\": 0,\n        \"min\": 0,\n        \"max\": 1,\n        \"num_unique_values\": 2,\n        \"samples\": [\n          0,\n          1\n        ],\n        \"semantic_type\": \"\",\n        \"description\": \"\"\n      }\n    }\n  ]\n}"
            }
          },
          "metadata": {},
          "execution_count": 130
        }
      ]
    },
    {
      "cell_type": "code",
      "source": [
        "#Show Data Dimension\n",
        "print('Data DImension : {}'.format(diabetes_df.shape))"
      ],
      "metadata": {
        "colab": {
          "base_uri": "https://localhost:8080/"
        },
        "id": "O7ol0Sza9ksj",
        "outputId": "b795a131-7d64-4cb4-a705-2b8c5bf41c54"
      },
      "execution_count": 131,
      "outputs": [
        {
          "output_type": "stream",
          "name": "stdout",
          "text": [
            "Data DImension : (2000, 9)\n"
          ]
        }
      ]
    },
    {
      "cell_type": "code",
      "source": [
        "#Counting Outcome Classes\n",
        "diabetes_df.groupby('Outcome').size()"
      ],
      "metadata": {
        "colab": {
          "base_uri": "https://localhost:8080/",
          "height": 178
        },
        "id": "Tq0e7jwI994C",
        "outputId": "f25389cc-384c-44e4-e17d-a84fe66382f5"
      },
      "execution_count": 132,
      "outputs": [
        {
          "output_type": "execute_result",
          "data": {
            "text/plain": [
              "Outcome\n",
              "0    1316\n",
              "1     684\n",
              "dtype: int64"
            ],
            "text/html": [
              "<div>\n",
              "<style scoped>\n",
              "    .dataframe tbody tr th:only-of-type {\n",
              "        vertical-align: middle;\n",
              "    }\n",
              "\n",
              "    .dataframe tbody tr th {\n",
              "        vertical-align: top;\n",
              "    }\n",
              "\n",
              "    .dataframe thead th {\n",
              "        text-align: right;\n",
              "    }\n",
              "</style>\n",
              "<table border=\"1\" class=\"dataframe\">\n",
              "  <thead>\n",
              "    <tr style=\"text-align: right;\">\n",
              "      <th></th>\n",
              "      <th>0</th>\n",
              "    </tr>\n",
              "    <tr>\n",
              "      <th>Outcome</th>\n",
              "      <th></th>\n",
              "    </tr>\n",
              "  </thead>\n",
              "  <tbody>\n",
              "    <tr>\n",
              "      <th>0</th>\n",
              "      <td>1316</td>\n",
              "    </tr>\n",
              "    <tr>\n",
              "      <th>1</th>\n",
              "      <td>684</td>\n",
              "    </tr>\n",
              "  </tbody>\n",
              "</table>\n",
              "</div><br><label><b>dtype:</b> int64</label>"
            ]
          },
          "metadata": {},
          "execution_count": 132
        }
      ]
    },
    {
      "cell_type": "code",
      "source": [
        "#Displays data per factor based on outcome = 0\n",
        "\n",
        "# Filter data\n",
        "outcome_0_df = diabetes_df[diabetes_df['Outcome'] == 0]\n",
        "\n",
        "outcome_0_df.hist(figsize=(9, 9))\n",
        "plt.show()"
      ],
      "metadata": {
        "colab": {
          "base_uri": "https://localhost:8080/",
          "height": 776
        },
        "id": "xpxOOZTSA0a0",
        "outputId": "44d6dff1-592f-4475-d436-b827c9955ec0"
      },
      "execution_count": 133,
      "outputs": [
        {
          "output_type": "display_data",
          "data": {
            "text/plain": [
              "<Figure size 900x900 with 9 Axes>"
            ],
            "image/png": "[encoded data removed]"
          },
          "metadata": {}
        }
      ]
    },
    {
      "cell_type": "code",
      "source": [
        "#Displays data per factor based on outcome = 1\n",
        "\n",
        "# Filter data\n",
        "outcome_1_df = diabetes_df[diabetes_df['Outcome'] == 1]\n",
        "\n",
        "outcome_1_df.hist(figsize=(9, 9))\n",
        "plt.show()"
      ],
      "metadata": {
        "colab": {
          "base_uri": "https://localhost:8080/",
          "height": 776
        },
        "id": "6VR40lgpBG4v",
        "outputId": "af6ce769-a8d6-41b1-d509-7244bf03df51"
      },
      "execution_count": 134,
      "outputs": [
        {
          "output_type": "display_data",
          "data": {
            "text/plain": [
              "<Figure size 900x900 with 9 Axes>"
            ],
            "image/png": "[encoded data removed]"
          },
          "metadata": {}
        }
      ]
    },
    {
      "cell_type": "markdown",
      "source": [
        "# Clean Data"
      ],
      "metadata": {
        "id": "_qhFIwDYHS6W"
      }
    },
    {
      "cell_type": "code",
      "source": [
        "#Checking null values\n",
        "diabetes_df.isnull().sum()\n",
        "diabetes_df.isna().sum()"
      ],
      "metadata": {
        "colab": {
          "base_uri": "https://localhost:8080/",
          "height": 366
        },
        "id": "H7aKwmv7CY56",
        "outputId": "59703605-d6e3-4554-d2f7-b8946c385066"
      },
      "execution_count": 135,
      "outputs": [
        {
          "output_type": "execute_result",
          "data": {
            "text/plain": [
              "Pregnancies                 0\n",
              "Glucose                     0\n",
              "BloodPressure               0\n",
              "SkinThickness               0\n",
              "Insulin                     0\n",
              "BMI                         0\n",
              "DiabetesPedigreeFunction    0\n",
              "Age                         0\n",
              "Outcome                     0\n",
              "dtype: int64"
            ],
            "text/html": [
              "<div>\n",
              "<style scoped>\n",
              "    .dataframe tbody tr th:only-of-type {\n",
              "        vertical-align: middle;\n",
              "    }\n",
              "\n",
              "    .dataframe tbody tr th {\n",
              "        vertical-align: top;\n",
              "    }\n",
              "\n",
              "    .dataframe thead th {\n",
              "        text-align: right;\n",
              "    }\n",
              "</style>\n",
              "<table border=\"1\" class=\"dataframe\">\n",
              "  <thead>\n",
              "    <tr style=\"text-align: right;\">\n",
              "      <th></th>\n",
              "      <th>0</th>\n",
              "    </tr>\n",
              "  </thead>\n",
              "  <tbody>\n",
              "    <tr>\n",
              "      <th>Pregnancies</th>\n",
              "      <td>0</td>\n",
              "    </tr>\n",
              "    <tr>\n",
              "      <th>Glucose</th>\n",
              "      <td>0</td>\n",
              "    </tr>\n",
              "    <tr>\n",
              "      <th>BloodPressure</th>\n",
              "      <td>0</td>\n",
              "    </tr>\n",
              "    <tr>\n",
              "      <th>SkinThickness</th>\n",
              "      <td>0</td>\n",
              "    </tr>\n",
              "    <tr>\n",
              "      <th>Insulin</th>\n",
              "      <td>0</td>\n",
              "    </tr>\n",
              "    <tr>\n",
              "      <th>BMI</th>\n",
              "      <td>0</td>\n",
              "    </tr>\n",
              "    <tr>\n",
              "      <th>DiabetesPedigreeFunction</th>\n",
              "      <td>0</td>\n",
              "    </tr>\n",
              "    <tr>\n",
              "      <th>Age</th>\n",
              "      <td>0</td>\n",
              "    </tr>\n",
              "    <tr>\n",
              "      <th>Outcome</th>\n",
              "      <td>0</td>\n",
              "    </tr>\n",
              "  </tbody>\n",
              "</table>\n",
              "</div><br><label><b>dtype:</b> int64</label>"
            ]
          },
          "metadata": {},
          "execution_count": 135
        }
      ]
    },
    {
      "cell_type": "markdown",
      "source": [
        "## Checking Outlier"
      ],
      "metadata": {
        "id": "2SpzzOBAHaCu"
      }
    },
    {
      "cell_type": "code",
      "source": [
        "# Search for data where blood pressure = 0\n",
        "print(\"Data with Blood Pressure = 0 : \", diabetes_df[diabetes_df.BloodPressure == 0].shape[0])\n",
        "print(\"\\n\", diabetes_df[diabetes_df.BloodPressure == 0].groupby('Outcome')['Age'].count())"
      ],
      "metadata": {
        "colab": {
          "base_uri": "https://localhost:8080/"
        },
        "id": "47rUOF-zHb7P",
        "outputId": "90e86d7d-e4ed-411a-82cf-01d2ac447d9d"
      },
      "execution_count": 136,
      "outputs": [
        {
          "output_type": "stream",
          "name": "stdout",
          "text": [
            "Data with Blood Pressure = 0 :  90\n",
            "\n",
            " Outcome\n",
            "0    51\n",
            "1    39\n",
            "Name: Age, dtype: int64\n"
          ]
        }
      ]
    },
    {
      "cell_type": "code",
      "source": [
        "# Search for data where glucose = 0\n",
        "print(\"Data with Glucose = 0 : \", diabetes_df[diabetes_df.Glucose == 0].shape[0])\n",
        "\n",
        "print(\"\\n\", diabetes_df[diabetes_df.Glucose == 0].groupby('Outcome')['Age'].count())"
      ],
      "metadata": {
        "colab": {
          "base_uri": "https://localhost:8080/"
        },
        "id": "pjLWmr0xHeX5",
        "outputId": "6632e66e-34ea-476b-ff59-d1c3c9055a18"
      },
      "execution_count": 137,
      "outputs": [
        {
          "output_type": "stream",
          "name": "stdout",
          "text": [
            "Data with Glucose = 0 :  13\n",
            "\n",
            " Outcome\n",
            "0    7\n",
            "1    6\n",
            "Name: Age, dtype: int64\n"
          ]
        }
      ]
    },
    {
      "cell_type": "code",
      "source": [
        "# Search for data where skin thickness = 0\n",
        "print(\"Data with skin thickness = 0 : \", diabetes_df[diabetes_df.SkinThickness == 0].shape[0])\n",
        "print(\"\\n\", diabetes_df[diabetes_df.SkinThickness == 0].groupby('Outcome')['Age'].count())"
      ],
      "metadata": {
        "colab": {
          "base_uri": "https://localhost:8080/"
        },
        "id": "mXcp2g3hHh43",
        "outputId": "87695ba1-3f73-47bf-b857-88eba02ee79f"
      },
      "execution_count": 138,
      "outputs": [
        {
          "output_type": "stream",
          "name": "stdout",
          "text": [
            "Data with skin thickness = 0 :  573\n",
            "\n",
            " Outcome\n",
            "0    356\n",
            "1    217\n",
            "Name: Age, dtype: int64\n"
          ]
        }
      ]
    },
    {
      "cell_type": "code",
      "source": [
        "# Search for data where BMI = 0\n",
        "print(\"Data with BMI = 0 : \", diabetes_df[diabetes_df.BMI == 0].shape[0])\n",
        "print(\"\\n\", diabetes_df[diabetes_df.BMI == 0].groupby('Outcome')['Age'].count())"
      ],
      "metadata": {
        "colab": {
          "base_uri": "https://localhost:8080/"
        },
        "id": "UB-A7KzZINIn",
        "outputId": "5affac25-90f5-4634-cf7b-9908d4a26e21"
      },
      "execution_count": 139,
      "outputs": [
        {
          "output_type": "stream",
          "name": "stdout",
          "text": [
            "Data with BMI = 0 :  28\n",
            "\n",
            " Outcome\n",
            "0    25\n",
            "1     3\n",
            "Name: Age, dtype: int64\n"
          ]
        }
      ]
    },
    {
      "cell_type": "code",
      "source": [
        "# Search for data where insulin = 0\n",
        "print(\"Data with insulin = 0 : \", diabetes_df[diabetes_df.Insulin == 0].shape[0])\n",
        "print(\"\\n\", diabetes_df[diabetes_df.Insulin == 0].groupby('Outcome')['Age'].count())"
      ],
      "metadata": {
        "colab": {
          "base_uri": "https://localhost:8080/"
        },
        "id": "h72S_bC_IbSL",
        "outputId": "98e0c28e-32f0-41a5-e351-0344d35c69d4"
      },
      "execution_count": 140,
      "outputs": [
        {
          "output_type": "stream",
          "name": "stdout",
          "text": [
            "Data with insulin = 0 :  956\n",
            "\n",
            " Outcome\n",
            "0    609\n",
            "1    347\n",
            "Name: Age, dtype: int64\n"
          ]
        }
      ]
    },
    {
      "cell_type": "markdown",
      "source": [
        "## Edit Data"
      ],
      "metadata": {
        "id": "VIif0mmPIvDU"
      }
    },
    {
      "cell_type": "code",
      "source": [
        "# Cleaning the data\n",
        "diabetes_mod = diabetes_df[(diabetes_df.BloodPressure != 0) & (diabetes_df.BMI != 0) & (diabetes_df.Glucose != 0)]\n",
        "print(diabetes_mod.shape)"
      ],
      "metadata": {
        "colab": {
          "base_uri": "https://localhost:8080/"
        },
        "id": "jPvnwqWpIwIX",
        "outputId": "8969b03e-c688-4b77-d99a-f3ecd5136d71"
      },
      "execution_count": 141,
      "outputs": [
        {
          "output_type": "stream",
          "name": "stdout",
          "text": [
            "(1888, 9)\n"
          ]
        }
      ]
    },
    {
      "cell_type": "code",
      "source": [
        "#Split the data\n",
        "factor = ['Pregnancies', 'Glucose', 'BloodPressure', 'SkinThickness', 'Insulin',\n",
        "       'BMI', 'DiabetesPedigreeFunction', 'Age']\n",
        "\n",
        "X = diabetes_mod[factor]\n",
        "y = diabetes_mod.Outcome"
      ],
      "metadata": {
        "id": "0HjZAGNeI0Yb"
      },
      "execution_count": 142,
      "outputs": []
    },
    {
      "cell_type": "markdown",
      "source": [
        "# Training Model"
      ],
      "metadata": {
        "id": "KiTf3wyCJM12"
      }
    },
    {
      "cell_type": "code",
      "source": [
        "from sklearn.linear_model import LogisticRegression\n",
        "from sklearn.model_selection import train_test_split"
      ],
      "metadata": {
        "id": "AWBj-r0gKO11"
      },
      "execution_count": 143,
      "outputs": []
    },
    {
      "cell_type": "code",
      "source": [
        "model = LogisticRegression(random_state=0)"
      ],
      "metadata": {
        "id": "sxhFoGGtJOxB"
      },
      "execution_count": 144,
      "outputs": []
    },
    {
      "cell_type": "code",
      "source": [
        "#Split the Data\n",
        "X_train, X_test, y_train, y_test = train_test_split(X,y,stratify=diabetes_mod.Outcome, random_state=0)"
      ],
      "metadata": {
        "id": "eL-rrXCZKGmG"
      },
      "execution_count": 145,
      "outputs": []
    },
    {
      "cell_type": "code",
      "source": [
        "#Feature Scaling\n",
        "from sklearn.preprocessing import StandardScaler\n",
        "sc = StandardScaler()\n",
        "train_data_scaled = sc.fit_transform(X_train)\n",
        "X_train = sc.fit_transform(X_train)\n",
        "X_test = sc.transform(X_test)"
      ],
      "metadata": {
        "id": "wPUrWCoVQSmH"
      },
      "execution_count": 146,
      "outputs": []
    },
    {
      "cell_type": "code",
      "source": [
        "model.fit(train_data_scaled, y_train)"
      ],
      "metadata": {
        "colab": {
          "base_uri": "https://localhost:8080/",
          "height": 74
        },
        "id": "D939awQRJg45",
        "outputId": "1b58d3d4-b980-4d2f-f059-fa79a8e1d6d1"
      },
      "execution_count": 147,
      "outputs": [
        {
          "output_type": "execute_result",
          "data": {
            "text/plain": [
              "LogisticRegression(random_state=0)"
            ],
            "text/html": [
              "<style>#sk-container-id-4 {color: black;}#sk-container-id-4 pre{padding: 0;}#sk-container-id-4 div.sk-toggleable {background-color: white;}#sk-container-id-4 label.sk-toggleable__label {cursor: pointer;display: block;width: 100%;margin-bottom: 0;padding: 0.3em;box-sizing: border-box;text-align: center;}#sk-container-id-4 label.sk-toggleable__label-arrow:before {content: \"▸\";float: left;margin-right: 0.25em;color: #696969;}#sk-container-id-4 label.sk-toggleable__label-arrow:hover:before {color: black;}#sk-container-id-4 div.sk-estimator:hover label.sk-toggleable__label-arrow:before {color: black;}#sk-container-id-4 div.sk-toggleable__content {max-height: 0;max-width: 0;overflow: hidden;text-align: left;background-color: #f0f8ff;}#sk-container-id-4 div.sk-toggleable__content pre {margin: 0.2em;color: black;border-radius: 0.25em;background-color: #f0f8ff;}#sk-container-id-4 input.sk-toggleable__control:checked~div.sk-toggleable__content {max-height: 200px;max-width: 100%;overflow: auto;}#sk-container-id-4 input.sk-toggleable__control:checked~label.sk-toggleable__label-arrow:before {content: \"▾\";}#sk-container-id-4 div.sk-estimator input.sk-toggleable__control:checked~label.sk-toggleable__label {background-color: #d4ebff;}#sk-container-id-4 div.sk-label input.sk-toggleable__control:checked~label.sk-toggleable__label {background-color: #d4ebff;}#sk-container-id-4 input.sk-hidden--visually {border: 0;clip: rect(1px 1px 1px 1px);clip: rect(1px, 1px, 1px, 1px);height: 1px;margin: -1px;overflow: hidden;padding: 0;position: absolute;width: 1px;}#sk-container-id-4 div.sk-estimator {font-family: monospace;background-color: #f0f8ff;border: 1px dotted black;border-radius: 0.25em;box-sizing: border-box;margin-bottom: 0.5em;}#sk-container-id-4 div.sk-estimator:hover {background-color: #d4ebff;}#sk-container-id-4 div.sk-parallel-item::after {content: \"\";width: 100%;border-bottom: 1px solid gray;flex-grow: 1;}#sk-container-id-4 div.sk-label:hover label.sk-toggleable__label {background-color: #d4ebff;}#sk-container-id-4 div.sk-serial::before {content: \"\";position: absolute;border-left: 1px solid gray;box-sizing: border-box;top: 0;bottom: 0;left: 50%;z-index: 0;}#sk-container-id-4 div.sk-serial {display: flex;flex-direction: column;align-items: center;background-color: white;padding-right: 0.2em;padding-left: 0.2em;position: relative;}#sk-container-id-4 div.sk-item {position: relative;z-index: 1;}#sk-container-id-4 div.sk-parallel {display: flex;align-items: stretch;justify-content: center;background-color: white;position: relative;}#sk-container-id-4 div.sk-item::before, #sk-container-id-4 div.sk-parallel-item::before {content: \"\";position: absolute;border-left: 1px solid gray;box-sizing: border-box;top: 0;bottom: 0;left: 50%;z-index: -1;}#sk-container-id-4 div.sk-parallel-item {display: flex;flex-direction: column;z-index: 1;position: relative;background-color: white;}#sk-container-id-4 div.sk-parallel-item:first-child::after {align-self: flex-end;width: 50%;}#sk-container-id-4 div.sk-parallel-item:last-child::after {align-self: flex-start;width: 50%;}#sk-container-id-4 div.sk-parallel-item:only-child::after {width: 0;}#sk-container-id-4 div.sk-dashed-wrapped {border: 1px dashed gray;margin: 0 0.4em 0.5em 0.4em;box-sizing: border-box;padding-bottom: 0.4em;background-color: white;}#sk-container-id-4 div.sk-label label {font-family: monospace;font-weight: bold;display: inline-block;line-height: 1.2em;}#sk-container-id-4 div.sk-label-container {text-align: center;}#sk-container-id-4 div.sk-container {/* jupyter's `normalize.less` sets `[hidden] { display: none; }` but bootstrap.min.css set `[hidden] { display: none !important; }` so we also need the `!important` here to be able to override the default hidden behavior on the sphinx rendered scikit-learn.org. See: https://github.com/scikit-learn/scikit-learn/issues/21755 */display: inline-block !important;position: relative;}#sk-container-id-4 div.sk-text-repr-fallback {display: none;}</style><div id=\"sk-container-id-4\" class=\"sk-top-container\"><div class=\"sk-text-repr-fallback\"><pre>LogisticRegression(random_state=0)</pre><b>In a Jupyter environment, please rerun this cell to show the HTML representation or trust the notebook. <br />On GitHub, the HTML representation is unable to render, please try loading this page with nbviewer.org.</b></div><div class=\"sk-container\" hidden><div class=\"sk-item\"><div class=\"sk-estimator sk-toggleable\"><input class=\"sk-toggleable__control sk-hidden--visually\" id=\"sk-estimator-id-4\" type=\"checkbox\" checked><label for=\"sk-estimator-id-4\" class=\"sk-toggleable__label sk-toggleable__label-arrow\">LogisticRegression</label><div class=\"sk-toggleable__content\"><pre>LogisticRegression(random_state=0)</pre></div></div></div></div></div>"
            ]
          },
          "metadata": {},
          "execution_count": 147
        }
      ]
    },
    {
      "cell_type": "code",
      "source": [
        "X_test"
      ],
      "metadata": {
        "colab": {
          "base_uri": "https://localhost:8080/"
        },
        "id": "qG4CMjYBKArH",
        "outputId": "88eca178-4a44-4448-df04-aeba6efd96b5"
      },
      "execution_count": 148,
      "outputs": [
        {
          "output_type": "execute_result",
          "data": {
            "text/plain": [
              "array([[ 0.07472464,  0.86367353, -1.019538  , ..., -0.25739172,\n",
              "        -0.98550642, -0.35047631],\n",
              "       [-0.82197108,  0.69904027,  0.12818042, ..., -0.90290303,\n",
              "        -0.66595867, -1.02729111],\n",
              "       [-0.82197108,  0.43562705, -1.51141732, ..., -0.83423162,\n",
              "         0.63333455,  2.44138475],\n",
              "       ...,\n",
              "       [-1.12086965, -0.68387913, -0.85557823, ..., -1.49347722,\n",
              "        -0.42479055, -0.68888371],\n",
              "       [-0.22417393, -1.07899895,  0.12818042, ..., -0.32606314,\n",
              "         0.22334875,  0.41094034],\n",
              "       [ 1.27031894,  0.36977375, -0.03577936, ...,  0.01729395,\n",
              "        -0.62375425,  0.49554219]])"
            ]
          },
          "metadata": {},
          "execution_count": 148
        }
      ]
    },
    {
      "cell_type": "code",
      "source": [
        "# Predict the probabilities on the test set\n",
        "y_pred_prob = model.predict_proba(X_test)[:, 1]\n",
        "\n",
        "# Predict the binary outcome\n",
        "y_pred = model.predict(X_test)"
      ],
      "metadata": {
        "id": "kP1Brva9KhM6"
      },
      "execution_count": 149,
      "outputs": []
    },
    {
      "cell_type": "code",
      "source": [
        "y_pred"
      ],
      "metadata": {
        "colab": {
          "base_uri": "https://localhost:8080/"
        },
        "id": "eYLko9JNKlW6",
        "outputId": "32625d6b-c930-4b7d-b148-adb7233f0acf"
      },
      "execution_count": 150,
      "outputs": [
        {
          "output_type": "execute_result",
          "data": {
            "text/plain": [
              "array([0, 0, 0, 0, 1, 0, 0, 0, 1, 0, 1, 0, 1, 0, 0, 1, 1, 0, 0, 1, 1, 0,\n",
              "       0, 0, 0, 1, 0, 1, 0, 0, 0, 0, 0, 0, 0, 0, 1, 0, 1, 0, 1, 1, 0, 1,\n",
              "       0, 0, 0, 0, 0, 1, 1, 0, 1, 0, 1, 0, 0, 0, 1, 0, 0, 0, 0, 1, 0, 0,\n",
              "       0, 0, 0, 0, 0, 0, 0, 0, 1, 1, 1, 0, 0, 1, 0, 0, 0, 0, 0, 0, 0, 0,\n",
              "       1, 0, 0, 0, 0, 0, 0, 0, 0, 0, 0, 0, 0, 0, 0, 0, 1, 0, 0, 1, 0, 0,\n",
              "       1, 0, 0, 0, 0, 1, 0, 1, 0, 1, 1, 0, 0, 1, 1, 0, 0, 0, 0, 1, 1, 1,\n",
              "       0, 1, 0, 0, 0, 0, 0, 0, 0, 0, 0, 0, 0, 0, 0, 0, 0, 0, 0, 0, 0, 0,\n",
              "       0, 1, 0, 0, 0, 0, 0, 0, 1, 1, 0, 0, 0, 0, 1, 0, 1, 0, 0, 1, 0, 0,\n",
              "       0, 0, 0, 0, 0, 0, 0, 0, 1, 1, 0, 1, 0, 1, 0, 0, 1, 0, 0, 0, 1, 0,\n",
              "       0, 1, 0, 1, 0, 0, 0, 0, 0, 1, 0, 0, 0, 0, 0, 0, 0, 1, 1, 0, 0, 0,\n",
              "       0, 1, 0, 0, 0, 0, 0, 0, 1, 1, 0, 1, 0, 0, 0, 0, 0, 1, 1, 0, 1, 1,\n",
              "       0, 0, 0, 0, 1, 1, 1, 1, 0, 0, 1, 0, 1, 0, 0, 0, 0, 1, 0, 0, 0, 0,\n",
              "       0, 1, 1, 1, 1, 0, 0, 0, 0, 0, 0, 0, 0, 0, 1, 1, 0, 0, 0, 0, 0, 0,\n",
              "       0, 1, 1, 1, 0, 0, 0, 0, 1, 0, 0, 1, 1, 0, 0, 0, 0, 0, 0, 1, 0, 1,\n",
              "       0, 0, 0, 0, 0, 0, 0, 0, 0, 0, 0, 0, 1, 1, 0, 0, 1, 0, 0, 0, 0, 0,\n",
              "       0, 1, 0, 1, 0, 0, 0, 1, 0, 0, 0, 0, 0, 1, 1, 0, 1, 0, 0, 0, 0, 0,\n",
              "       0, 0, 0, 0, 1, 0, 0, 0, 1, 0, 1, 0, 0, 0, 1, 0, 1, 0, 0, 0, 0, 1,\n",
              "       0, 0, 0, 1, 0, 0, 0, 1, 0, 1, 0, 0, 0, 0, 1, 0, 0, 1, 1, 0, 1, 1,\n",
              "       0, 0, 0, 0, 0, 1, 0, 0, 0, 0, 0, 0, 1, 1, 1, 0, 0, 1, 0, 0, 0, 0,\n",
              "       0, 0, 0, 0, 0, 0, 1, 1, 0, 0, 0, 0, 0, 1, 0, 0, 0, 1, 1, 0, 1, 1,\n",
              "       0, 0, 1, 0, 1, 0, 0, 0, 0, 1, 1, 0, 0, 1, 0, 1, 0, 0, 0, 0, 0, 0,\n",
              "       0, 0, 0, 0, 0, 0, 0, 0, 0, 1])"
            ]
          },
          "metadata": {},
          "execution_count": 150
        }
      ]
    },
    {
      "cell_type": "code",
      "source": [
        "y_pred_prob"
      ],
      "metadata": {
        "colab": {
          "base_uri": "https://localhost:8080/"
        },
        "id": "4-qwBR0AL6HH",
        "outputId": "469bee93-8f22-47ae-ebb1-d426ee2ee885"
      },
      "execution_count": 151,
      "outputs": [
        {
          "output_type": "execute_result",
          "data": {
            "text/plain": [
              "array([0.30928612, 0.21144931, 0.38539452, 0.11920948, 0.66330223,\n",
              "       0.10229129, 0.05038583, 0.36178752, 0.57761606, 0.22113158,\n",
              "       0.62461845, 0.09804462, 0.8443659 , 0.08467109, 0.07358902,\n",
              "       0.71165377, 0.88477536, 0.16982694, 0.4563544 , 0.51414402,\n",
              "       0.6850251 , 0.14831095, 0.19632117, 0.13208773, 0.34598889,\n",
              "       0.85413596, 0.24158652, 0.50772266, 0.11636774, 0.06968996,\n",
              "       0.04102285, 0.1719473 , 0.46372334, 0.10345429, 0.14608083,\n",
              "       0.04683397, 0.65340884, 0.17260557, 0.66326721, 0.12207258,\n",
              "       0.93967992, 0.5010975 , 0.17145192, 0.83204179, 0.12207258,\n",
              "       0.25681122, 0.31592902, 0.25478187, 0.46372334, 0.85413596,\n",
              "       0.56194672, 0.13177222, 0.57596428, 0.34096758, 0.80418487,\n",
              "       0.30534352, 0.05805552, 0.33243024, 0.69115859, 0.09227383,\n",
              "       0.06567374, 0.14149317, 0.17337911, 0.70665663, 0.37789221,\n",
              "       0.13161735, 0.01979785, 0.19739299, 0.16447201, 0.05805552,\n",
              "       0.1076977 , 0.33853438, 0.41123448, 0.07266877, 0.75613977,\n",
              "       0.5637663 , 0.58248345, 0.28118206, 0.40350965, 0.67461581,\n",
              "       0.34412609, 0.36465232, 0.05997906, 0.45683243, 0.26058521,\n",
              "       0.21443975, 0.08197924, 0.38561394, 0.57950447, 0.03924604,\n",
              "       0.37073595, 0.45084945, 0.09590517, 0.35880123, 0.1207244 ,\n",
              "       0.05997906, 0.27204597, 0.16082126, 0.39279346, 0.05382595,\n",
              "       0.04159229, 0.13691281, 0.31915791, 0.15473513, 0.51863615,\n",
              "       0.23242056, 0.32864312, 0.72936981, 0.04414255, 0.16911668,\n",
              "       0.63013306, 0.33307582, 0.0761361 , 0.27480371, 0.0502039 ,\n",
              "       0.76569392, 0.27886859, 0.67919495, 0.39237639, 0.77019653,\n",
              "       0.6908425 , 0.46372334, 0.30702803, 0.60537548, 0.57172817,\n",
              "       0.06793134, 0.12367547, 0.17268714, 0.03163398, 0.83413591,\n",
              "       0.94031986, 0.94366781, 0.13312922, 0.61645917, 0.14712208,\n",
              "       0.06195881, 0.05997906, 0.41267395, 0.11327051, 0.0502039 ,\n",
              "       0.46461253, 0.28293642, 0.1445168 , 0.1445168 , 0.33923447,\n",
              "       0.28604118, 0.14785865, 0.05674662, 0.27886859, 0.02148969,\n",
              "       0.36799842, 0.30519829, 0.07419773, 0.14812633, 0.20950835,\n",
              "       0.72936981, 0.38539452, 0.45314973, 0.16873367, 0.147077  ,\n",
              "       0.28258116, 0.09229699, 0.68851154, 0.69219581, 0.34598889,\n",
              "       0.25432361, 0.07838613, 0.25478187, 0.69549511, 0.06637562,\n",
              "       0.62461845, 0.30534352, 0.09985243, 0.62356542, 0.12193193,\n",
              "       0.09012619, 0.19666407, 0.27167264, 0.10226922, 0.31029151,\n",
              "       0.03120733, 0.28920504, 0.04463542, 0.03322749, 0.72386381,\n",
              "       0.92838168, 0.15140779, 0.96048312, 0.48502871, 0.72386381,\n",
              "       0.04371774, 0.1709144 , 0.52613692, 0.26499883, 0.12193193,\n",
              "       0.18169818, 0.62195873, 0.18262274, 0.29146228, 0.59545366,\n",
              "       0.35964631, 0.62742329, 0.34526249, 0.03797652, 0.20174482,\n",
              "       0.39768871, 0.06637562, 0.50972203, 0.11134983, 0.14529857,\n",
              "       0.37075209, 0.10925327, 0.24676626, 0.43627446, 0.14812633,\n",
              "       0.79683445, 0.74875364, 0.06682531, 0.42585633, 0.36731864,\n",
              "       0.12367547, 0.54566813, 0.37348695, 0.09346891, 0.24724727,\n",
              "       0.11314649, 0.25745216, 0.3622233 , 0.57596428, 0.52222439,\n",
              "       0.25478187, 0.83204179, 0.14357017, 0.03163398, 0.11556885,\n",
              "       0.45270861, 0.31359018, 0.9330955 , 0.81759412, 0.11199913,\n",
              "       0.85507183, 0.81434929, 0.21977707, 0.29105055, 0.22187375,\n",
              "       0.05257989, 0.60627775, 0.86546797, 0.83802989, 0.88826728,\n",
              "       0.01241999, 0.05265022, 0.70111537, 0.34424664, 0.87989158,\n",
              "       0.15464739, 0.17664075, 0.03948714, 0.1366244 , 0.85201715,\n",
              "       0.24175796, 0.05397221, 0.11740899, 0.20769564, 0.42977251,\n",
              "       0.78263572, 0.82896455, 0.69219581, 0.87989158, 0.06779102,\n",
              "       0.33243024, 0.15304242, 0.45683243, 0.19844608, 0.05099492,\n",
              "       0.25161904, 0.06388014, 0.3622233 , 0.73282806, 0.63059755,\n",
              "       0.46576686, 0.03804915, 0.16873367, 0.08997106, 0.13722595,\n",
              "       0.43525893, 0.11656282, 0.74875364, 0.81822926, 0.76557009,\n",
              "       0.08527561, 0.09641034, 0.10647105, 0.34412609, 0.71318657,\n",
              "       0.11058726, 0.27316424, 0.78263572, 0.65340884, 0.16208072,\n",
              "       0.03737209, 0.26117968, 0.11123343, 0.30871134, 0.025975  ,\n",
              "       0.68291864, 0.13584005, 0.76882683, 0.05431857, 0.0744924 ,\n",
              "       0.17761976, 0.45084945, 0.41293721, 0.2179147 , 0.0761361 ,\n",
              "       0.14653471, 0.11058726, 0.04463542, 0.06121804, 0.20174482,\n",
              "       0.95895373, 0.9330955 , 0.13161735, 0.15418766, 0.76721375,\n",
              "       0.08746197, 0.1445168 , 0.27204597, 0.32178007, 0.11197646,\n",
              "       0.17156396, 0.76208569, 0.11556885, 0.80911832, 0.01979785,\n",
              "       0.13883443, 0.10999588, 0.76557009, 0.03737209, 0.13883443,\n",
              "       0.43627446, 0.17676687, 0.42585633, 0.69714772, 0.96677989,\n",
              "       0.0843969 , 0.85201715, 0.1076977 , 0.26656398, 0.17843158,\n",
              "       0.37362463, 0.10862798, 0.01791335, 0.28315189, 0.04683397,\n",
              "       0.15913471, 0.61839113, 0.14528292, 0.21923089, 0.31592902,\n",
              "       0.86147386, 0.3979198 , 0.76721375, 0.36178752, 0.15304242,\n",
              "       0.48883516, 0.80892995, 0.02292376, 0.62742329, 0.025975  ,\n",
              "       0.24158652, 0.22145058, 0.43525893, 0.86546797, 0.300058  ,\n",
              "       0.20125277, 0.16702873, 0.90241684, 0.37889805, 0.25785685,\n",
              "       0.19018548, 0.71560608, 0.04222222, 0.71165377, 0.10458505,\n",
              "       0.27480371, 0.3979198 , 0.04481479, 0.64660323, 0.3452569 ,\n",
              "       0.34656895, 0.84506366, 0.66326721, 0.09607534, 0.83802989,\n",
              "       0.55290459, 0.22033651, 0.39768871, 0.21665246, 0.32601319,\n",
              "       0.300058  , 0.55921205, 0.04145114, 0.20219543, 0.24724727,\n",
              "       0.03282735, 0.08378657, 0.33401103, 0.51863615, 0.77886514,\n",
              "       0.82774342, 0.14357017, 0.16001552, 0.90241684, 0.36799842,\n",
              "       0.04077696, 0.21665246, 0.19669477, 0.03985909, 0.10982252,\n",
              "       0.30868517, 0.21665246, 0.04876053, 0.14176894, 0.78263572,\n",
              "       0.93111538, 0.06793134, 0.41050933, 0.48502871, 0.1207244 ,\n",
              "       0.38561394, 0.9475593 , 0.08746197, 0.28895026, 0.27420204,\n",
              "       0.63013306, 0.85413125, 0.13446318, 0.92012756, 0.70143372,\n",
              "       0.16208072, 0.46610665, 0.52932862, 0.07830614, 0.99377971,\n",
              "       0.42657861, 0.18757169, 0.06001887, 0.04417219, 0.87098911,\n",
              "       0.57172817, 0.03804915, 0.13150165, 0.57910736, 0.26485439,\n",
              "       0.96674679, 0.0334281 , 0.27316424, 0.25749609, 0.08970208,\n",
              "       0.07996995, 0.03163398, 0.04876053, 0.10212969, 0.32008226,\n",
              "       0.13150165, 0.04045606, 0.16164571, 0.20769564, 0.04383135,\n",
              "       0.09652456, 0.52125218])"
            ]
          },
          "metadata": {},
          "execution_count": 151
        }
      ]
    },
    {
      "cell_type": "code",
      "source": [
        "#Prediction Test\n",
        "model.predict([[2,100, 72, 25, 78, 30.0, 0.22, 19]])[0]"
      ],
      "metadata": {
        "colab": {
          "base_uri": "https://localhost:8080/"
        },
        "id": "JYg-WpnwKpoI",
        "outputId": "5c8b1098-0bf0-4d77-8cf4-0cb2e91fc609"
      },
      "execution_count": 152,
      "outputs": [
        {
          "output_type": "execute_result",
          "data": {
            "text/plain": [
              "1"
            ]
          },
          "metadata": {},
          "execution_count": 152
        }
      ]
    },
    {
      "cell_type": "markdown",
      "source": [
        "# Model Evaluation"
      ],
      "metadata": {
        "id": "ByDiXjXOK8Dx"
      }
    },
    {
      "cell_type": "code",
      "source": [
        "from sklearn.metrics import confusion_matrix, accuracy_score, precision_score, recall_score, f1_score, roc_auc_score, roc_curve\n",
        "import matplotlib.pyplot as plt"
      ],
      "metadata": {
        "id": "rgCzmy_ZMLM9"
      },
      "execution_count": 153,
      "outputs": []
    },
    {
      "cell_type": "code",
      "source": [
        "conf_matrix = confusion_matrix(y_test, y_pred)\n",
        "print(\"Confusion Matrix:\\n\", conf_matrix)"
      ],
      "metadata": {
        "colab": {
          "base_uri": "https://localhost:8080/"
        },
        "id": "qDJ7qcGBK9es",
        "outputId": "93ac7d7c-59a0-4168-d31f-d2cc76c4c913"
      },
      "execution_count": 154,
      "outputs": [
        {
          "output_type": "stream",
          "name": "stdout",
          "text": [
            "Confusion Matrix:\n",
            " [[272  40]\n",
            " [ 73  87]]\n"
          ]
        }
      ]
    },
    {
      "cell_type": "code",
      "source": [
        "accuracy = accuracy_score(y_test, y_pred)\n",
        "print(\"Accuracy:\", accuracy)"
      ],
      "metadata": {
        "colab": {
          "base_uri": "https://localhost:8080/"
        },
        "id": "w8iR9efoMEUE",
        "outputId": "6a78159d-65bd-44d4-f88a-f11592d6c6fa"
      },
      "execution_count": 155,
      "outputs": [
        {
          "output_type": "stream",
          "name": "stdout",
          "text": [
            "Accuracy: 0.760593220338983\n"
          ]
        }
      ]
    },
    {
      "cell_type": "code",
      "source": [
        "precision = precision_score(y_test, y_pred)\n",
        "print(\"Precision:\", precision)"
      ],
      "metadata": {
        "colab": {
          "base_uri": "https://localhost:8080/"
        },
        "id": "v1jK-veVMtH3",
        "outputId": "74555c7d-0670-4829-8378-a01755be0a00"
      },
      "execution_count": 156,
      "outputs": [
        {
          "output_type": "stream",
          "name": "stdout",
          "text": [
            "Precision: 0.6850393700787402\n"
          ]
        }
      ]
    },
    {
      "cell_type": "code",
      "source": [
        "recall = recall_score(y_test, y_pred)\n",
        "print(\"Recall:\", recall)"
      ],
      "metadata": {
        "colab": {
          "base_uri": "https://localhost:8080/"
        },
        "id": "7mjNofFSMxoa",
        "outputId": "f391f7ce-60b6-451b-9628-71af40d1b5e3"
      },
      "execution_count": 157,
      "outputs": [
        {
          "output_type": "stream",
          "name": "stdout",
          "text": [
            "Recall: 0.54375\n"
          ]
        }
      ]
    },
    {
      "cell_type": "code",
      "source": [
        "f1 = f1_score(y_test, y_pred)\n",
        "print(\"F1 Score:\", f1)"
      ],
      "metadata": {
        "colab": {
          "base_uri": "https://localhost:8080/"
        },
        "id": "8FOcIoeYMzFr",
        "outputId": "7a6eba08-f4e5-4de1-e353-235dc12bab58"
      },
      "execution_count": 158,
      "outputs": [
        {
          "output_type": "stream",
          "name": "stdout",
          "text": [
            "F1 Score: 0.6062717770034843\n"
          ]
        }
      ]
    },
    {
      "cell_type": "code",
      "source": [
        "print(\"Model Score:\", model.score(X_test, y_test))"
      ],
      "metadata": {
        "colab": {
          "base_uri": "https://localhost:8080/"
        },
        "id": "zzvMOXQnM0hB",
        "outputId": "a73cf11b-8d59-4f56-d3f5-04544760fd7b"
      },
      "execution_count": 159,
      "outputs": [
        {
          "output_type": "stream",
          "name": "stdout",
          "text": [
            "Model Score: 0.760593220338983\n"
          ]
        }
      ]
    },
    {
      "cell_type": "markdown",
      "source": [
        "# Save ML Model"
      ],
      "metadata": {
        "id": "8duh4H6m0dsN"
      }
    },
    {
      "cell_type": "code",
      "source": [
        "import joblib"
      ],
      "metadata": {
        "id": "WN7r2rpk0fzk"
      },
      "execution_count": 160,
      "outputs": []
    },
    {
      "cell_type": "code",
      "source": [
        "joblib.dump(sc, 'scaler.pkl')"
      ],
      "metadata": {
        "colab": {
          "base_uri": "https://localhost:8080/"
        },
        "id": "cg3yH6GCXKkF",
        "outputId": "ba151d8a-be2c-4b23-9c5f-fa34009993ca"
      },
      "execution_count": 161,
      "outputs": [
        {
          "output_type": "execute_result",
          "data": {
            "text/plain": [
              "['scaler.pkl']"
            ]
          },
          "metadata": {},
          "execution_count": 161
        }
      ]
    },
    {
      "cell_type": "code",
      "source": [
        "joblib.dump(model, 'diabetes_prediction.pkl')"
      ],
      "metadata": {
        "colab": {
          "base_uri": "https://localhost:8080/"
        },
        "id": "0jekHg9d5Btx",
        "outputId": "c3704a09-68e3-4759-9261-10f6fcf668bc"
      },
      "execution_count": 162,
      "outputs": [
        {
          "output_type": "execute_result",
          "data": {
            "text/plain": [
              "['diabetes_prediction.pkl']"
            ]
          },
          "metadata": {},
          "execution_count": 162
        }
      ]
    }
  ]
}